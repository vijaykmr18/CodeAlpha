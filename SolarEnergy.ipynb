{
  "nbformat": 4,
  "nbformat_minor": 0,
  "metadata": {
    "colab": {
      "private_outputs": true,
      "provenance": [],
      "authorship_tag": "ABX9TyPzJ87a9GXrQmS6T+6oPA5U",
      "include_colab_link": true
    },
    "kernelspec": {
      "name": "python3",
      "display_name": "Python 3"
    },
    "language_info": {
      "name": "python"
    }
  },
  "cells": [
    {
      "cell_type": "markdown",
      "metadata": {
        "id": "view-in-github",
        "colab_type": "text"
      },
      "source": [
        "<a href=\"https://colab.research.google.com/github/vijaykmr18/CodeAlpha/blob/main/SolarEnergy.ipynb\" target=\"_parent\"><img src=\"https://colab.research.google.com/assets/colab-badge.svg\" alt=\"Open In Colab\"/></a>"
      ]
    },
    {
      "cell_type": "code",
      "source": [
        "# Import necessary libraries\n",
        "import pandas as pd\n",
        "import numpy as np\n",
        "import matplotlib.pyplot as plt\n",
        "import seaborn as sns\n",
        "from sklearn.model_selection import train_test_split\n",
        "from sklearn.linear_model import LinearRegression\n",
        "from sklearn.metrics import mean_squared_error, r2_score"
      ],
      "metadata": {
        "id": "ZTIUkhduoj-H"
      },
      "execution_count": null,
      "outputs": []
    },
    {
      "cell_type": "code",
      "source": [
        "\n",
        "# Mount Google Drive (if your file is stored in Google Drive)\n",
        "\n",
        "\n",
        "# Load the dataset\n",
        "file_path = '/content/solarpowergeneration.csv'  # Update the path to your file\n",
        "data = pd.read_csv(file_path)"
      ],
      "metadata": {
        "id": "gCETAkBh2kQn"
      },
      "execution_count": null,
      "outputs": []
    },
    {
      "cell_type": "code",
      "source": [
        "# Display the first few rows of the dataset\n",
        "print(\"Dataset Preview:\")\n",
        "print(data.head())"
      ],
      "metadata": {
        "id": "ykSTH2w22kNW"
      },
      "execution_count": null,
      "outputs": []
    },
    {
      "cell_type": "code",
      "source": [
        "\n",
        "# Check for missing values\n",
        "print(\"\\nMissing Values:\")\n",
        "print(data.isnull().sum())\n",
        "\n",
        "# Drop rows with missing values (or handle them as needed)\n",
        "data = data.dropna()"
      ],
      "metadata": {
        "id": "_FXG4X_T2kKa"
      },
      "execution_count": null,
      "outputs": []
    },
    {
      "cell_type": "code",
      "source": [
        "# Define features (X) and target variable (y)\n",
        "X = data.drop(columns=['generated_power_kw'])  # All columns except the target\n",
        "y = data['generated_power_kw']  # Target variable\n",
        "\n",
        "# Split the data into training and testing sets (80% train, 20% test)\n",
        "X_train, X_test, y_train, y_test = train_test_split(X, y, test_size=0.2, random_state=42)\n",
        "\n",
        "# Initialize the Linear Regression model\n",
        "model = LinearRegression()"
      ],
      "metadata": {
        "id": "jEQI13Zt2pmn"
      },
      "execution_count": null,
      "outputs": []
    },
    {
      "source": [
        "# Train the model on the training data\n",
        "model.fit(X_train, y_train)\n",
        "\n",
        "# Make predictions on the test data\n",
        "y_pred = model.predict(X_test)\n",
        "\n",
        "# Evaluate the model\n",
        "mse = mean_squared_error(y_test, y_pred)\n",
        "r2 = r2_score(y_test, y_pred)\n",
        "\n",
        "print(\"\\nModel Evaluation:\")\n",
        "print(f\"Mean Squared Error (MSE): {mse}\")\n",
        "print(f\"R-squared (R2): {r2}\")\n",
        "\n",
        "# Visualize actual vs predicted values\n",
        "plt.figure(figsize=(10, 6))\n",
        "plt.scatter(y_test, y_pred, alpha=0.7)\n",
        "plt.plot([y.min(), y.max()], [y.min(), y.max()], 'r--')  # Diagonal line\n",
        "plt.xlabel('Actual Generated Power (kW)')\n",
        "plt.ylabel('Predicted Generated Power (kW)')\n",
        "plt.title('Actual vs Predicted Solar Power Output')\n",
        "plt.show()\n",
        "\n",
        "\n",
        "\n"
      ],
      "cell_type": "code",
      "metadata": {
        "id": "g0YCC5jHh1Sq"
      },
      "execution_count": null,
      "outputs": []
    },
    {
      "cell_type": "code",
      "source": [
        "# Feature importance (coefficients of the linear regression model)\n",
        "feature_importance = pd.DataFrame({\n",
        "    'Feature': X.columns,\n",
        "    'Coefficient': model.coef_\n",
        "}).sort_values(by='Coefficient', ascending=False)\n",
        "\n",
        "print(\"\\nFeature Importance (Coefficients):\")\n",
        "print(feature_importance)"
      ],
      "metadata": {
        "id": "y3K99rXg22DK"
      },
      "execution_count": null,
      "outputs": []
    },
    {
      "cell_type": "code",
      "source": [
        "# Save the trained model (optional)\n",
        "import joblib\n",
        "joblib.dump(model, '/content/drive/MyDrive/solar_power_linear_regression_model.pkl')"
      ],
      "metadata": {
        "id": "nMNK2gwuhojf"
      },
      "execution_count": null,
      "outputs": []
    },
    {
      "cell_type": "code",
      "source": [
        "# Select only the essential features\n",
        "essential_features = [\n",
        "    'shortwave_radiation_backwards_sfc',\n",
        "    'angle_of_incidence',\n",
        "    'zenith',\n",
        "    'azimuth'\n",
        "]\n",
        "\n",
        "# Define new X (features) using only the essential features\n",
        "X_essential = data[essential_features]\n",
        "y = data['generated_power_kw']  # Target variable remains the same\n",
        "\n",
        "# Split the data into training and testing sets (80% train, 20% test)\n",
        "X_train_essential, X_test_essential, y_train_essential, y_test_essential = train_test_split(\n",
        "    X_essential, y, test_size=0.2, random_state=42\n",
        ")\n",
        "\n",
        "# Initialize and train a new Linear Regression model\n",
        "model_essential = LinearRegression()\n",
        "model_essential.fit(X_train_essential, y_train_essential)\n",
        "\n",
        "# Make predictions on the test data\n",
        "y_pred_essential = model_essential.predict(X_test_essential)\n",
        "\n",
        "# Evaluate the model\n",
        "mse_essential = mean_squared_error(y_test_essential, y_pred_essential)\n",
        "r2_essential = r2_score(y_test_essential, y_pred_essential)\n",
        "\n",
        "print(\"\\nModel Evaluation with Essential Features:\")\n",
        "print(f\"Mean Squared Error (MSE): {mse_essential}\")\n",
        "print(f\"R-squared (R2): {r2_essential}\")\n",
        "\n"
      ],
      "metadata": {
        "id": "zdqddRkBzzvY"
      },
      "execution_count": null,
      "outputs": []
    },
    {
      "cell_type": "code",
      "source": [
        "# Visualize actual vs predicted values for the essential features model\n",
        "plt.figure(figsize=(10, 6))\n",
        "plt.scatter(y_test_essential, y_pred_essential, alpha=0.7, color='green')\n",
        "plt.plot([y.min(), y.max()], [y.min(), y.max()], 'r--')  # Diagonal line\n",
        "plt.xlabel('Actual Generated Power (kW)')\n",
        "plt.ylabel('Predicted Generated Power (kW)')\n",
        "plt.title('Actual vs Predicted Solar Power Output (Essential Features)')\n",
        "plt.show()\n",
        "\n"
      ],
      "metadata": {
        "id": "JvmHn9xC3K3C"
      },
      "execution_count": null,
      "outputs": []
    },
    {
      "cell_type": "code",
      "source": [
        "# Feature importance (coefficients of the linear regression model)\n",
        "feature_importance_essential = pd.DataFrame({\n",
        "    'Feature': essential_features,\n",
        "    'Coefficient': model_essential.coef_\n",
        "}).sort_values(by='Coefficient', ascending=False)\n",
        "\n",
        "print(\"\\nFeature Importance (Coefficients) for Essential Features:\")\n",
        "print(feature_importance_essential)\n",
        "\n"
      ],
      "metadata": {
        "id": "y2VrwQpS3Kn8"
      },
      "execution_count": null,
      "outputs": []
    },
    {
      "cell_type": "code",
      "source": [
        "# Compare performance of full-feature model vs essential-feature model\n",
        "comparison = pd.DataFrame({\n",
        "    'Model': ['Full-Feature Model', 'Essential-Feature Model'],\n",
        "    'MSE': [mse, mse_essential],\n",
        "    'R2': [r2, r2_essential]\n",
        "})\n",
        "\n",
        "print(\"\\nComparison of Models:\")\n",
        "print(comparison)"
      ],
      "metadata": {
        "id": "h1mlSndI3KPW"
      },
      "execution_count": null,
      "outputs": []
    },
    {
      "cell_type": "code",
      "source": [
        "# Select weather-related features\n",
        "weather_features = [\n",
        "    'total_cloud_cover_sfc',\n",
        "    'high_cloud_cover_high_cld_lay',\n",
        "    'medium_cloud_cover_mid_cld_lay',\n",
        "    'low_cloud_cover_low_cld_lay',\n",
        "    'total_precipitation_sfc',\n",
        "    'snowfall_amount_sfc',\n",
        "    'temperature_2_m_above_gnd'\n",
        "]\n",
        "\n",
        "# Define new X (features) using only the weather-related features\n",
        "X_weather = data[weather_features]\n",
        "y = data['generated_power_kw']  # Target variable remains the same\n",
        "\n",
        "# Split the data into training and testing sets (80% train, 20% test)\n",
        "X_train_weather, X_test_weather, y_train_weather, y_test_weather = train_test_split(\n",
        "    X_weather, y, test_size=0.2, random_state=42\n",
        ")\n",
        "\n",
        "# Initialize and train a new Linear Regression model\n",
        "model_weather = LinearRegression()\n",
        "model_weather.fit(X_train_weather, y_train_weather)\n",
        "\n",
        "# Make predictions on the test data\n",
        "y_pred_weather = model_weather.predict(X_test_weather)\n",
        "\n",
        "# Evaluate the model\n",
        "mse_weather = mean_squared_error(y_test_weather, y_pred_weather)\n",
        "r2_weather = r2_score(y_test_weather, y_pred_weather)\n",
        "\n",
        "print(\"\\nModel Evaluation with Weather-Related Features:\")\n",
        "print(f\"Mean Squared Error (MSE): {mse_weather}\")\n",
        "print(f\"R-squared (R2): {r2_weather}\")\n",
        "\n",
        "# Visualize actual vs predicted values for the weather-related features model\n",
        "plt.figure(figsize=(10, 6))\n",
        "plt.scatter(y_test_weather, y_pred_weather, alpha=0.7, color='orange')\n",
        "plt.plot([y.min(), y.max()], [y.min(), y.max()], 'r--')  # Diagonal line\n",
        "plt.xlabel('Actual Generated Power (kW)')\n",
        "plt.ylabel('Predicted Generated Power (kW)')\n",
        "plt.title('Actual vs Predicted Solar Power Output (Weather-Related Features)')\n",
        "plt.show()\n",
        "\n"
      ],
      "metadata": {
        "id": "nUQRKcGiz0aK"
      },
      "execution_count": null,
      "outputs": []
    },
    {
      "cell_type": "code",
      "source": [
        "# Feature importance (coefficients of the linear regression model)\n",
        "feature_importance_weather = pd.DataFrame({\n",
        "    'Feature': weather_features,\n",
        "    'Coefficient': model_weather.coef_\n",
        "}).sort_values(by='Coefficient', ascending=False)\n",
        "\n",
        "print(\"\\nFeature Importance (Coefficients) for Weather-Related Features:\")\n",
        "print(feature_importance_weather)\n",
        "\n"
      ],
      "metadata": {
        "id": "RKYr6D0G3X-P"
      },
      "execution_count": null,
      "outputs": []
    },
    {
      "cell_type": "code",
      "source": [
        "# Compare performance of all models\n",
        "comparison_all = pd.DataFrame({\n",
        "    'Model': ['Full-Feature Model', 'Essential-Feature Model', 'Weather-Related Feature Model'],\n",
        "    'MSE': [mse, mse_essential, mse_weather],\n",
        "    'R2': [r2, r2_essential, r2_weather]\n",
        "})\n",
        "\n",
        "print(\"\\nComparison of All Models:\")\n",
        "print(comparison_all)"
      ],
      "metadata": {
        "id": "MnvYAu9Y3Xu5"
      },
      "execution_count": null,
      "outputs": []
    },
    {
      "cell_type": "code",
      "source": [
        "# Select wind-related features\n",
        "wind_features = [\n",
        "    'wind_speed_10_m_above_gnd',\n",
        "    'wind_speed_80_m_above_gnd',\n",
        "    'wind_direction_10_m_above_gnd',\n",
        "    'wind_direction_80_m_above_gnd',\n",
        "    'wind_gust_10_m_above_gnd'\n",
        "]\n",
        "\n",
        "# Define new X (features) using only the wind-related features\n",
        "X_wind = data[wind_features]\n",
        "y = data['generated_power_kw']  # Target variable remains the same\n",
        "\n",
        "# Split the data into training and testing sets (80% train, 20% test)\n",
        "X_train_wind, X_test_wind, y_train_wind, y_test_wind = train_test_split(\n",
        "    X_wind, y, test_size=0.2, random_state=42\n",
        ")\n",
        "\n",
        "# Initialize and train a new Linear Regression model\n",
        "model_wind = LinearRegression()\n",
        "model_wind.fit(X_train_wind, y_train_wind)\n",
        "\n",
        "# Make predictions on the test data\n",
        "y_pred_wind = model_wind.predict(X_test_wind)\n",
        "\n",
        "# Evaluate the model\n",
        "mse_wind = mean_squared_error(y_test_wind, y_pred_wind)\n",
        "r2_wind = r2_score(y_test_wind, y_pred_wind)\n",
        "\n",
        "print(\"\\nModel Evaluation with Wind-Related Features:\")\n",
        "print(f\"Mean Squared Error (MSE): {mse_wind}\")\n",
        "print(f\"R-squared (R2): {r2_wind}\")\n",
        "\n",
        "# Visualize actual vs predicted values for the wind-related features model\n",
        "plt.figure(figsize=(10, 6))\n",
        "plt.scatter(y_test_wind, y_pred_wind, alpha=0.7, color='purple')\n",
        "plt.plot([y.min(), y.max()], [y.min(), y.max()], 'r--')  # Diagonal line\n",
        "plt.xlabel('Actual Generated Power (kW)')\n",
        "plt.ylabel('Predicted Generated Power (kW)')\n",
        "plt.title('Actual vs Predicted Solar Power Output (Wind-Related Features)')\n",
        "plt.show()\n",
        "\n"
      ],
      "metadata": {
        "id": "PrSwv-M50HOS"
      },
      "execution_count": null,
      "outputs": []
    },
    {
      "cell_type": "code",
      "source": [
        "# Feature importance (coefficients of the linear regression model)\n",
        "feature_importance_wind = pd.DataFrame({\n",
        "    'Feature': wind_features,\n",
        "    'Coefficient': model_wind.coef_\n",
        "}).sort_values(by='Coefficient', ascending=False)\n",
        "\n",
        "print(\"\\nFeature Importance (Coefficients) for Wind-Related Features:\")\n",
        "print(feature_importance_wind)\n",
        "\n"
      ],
      "metadata": {
        "id": "JuHSVxpi3qVF"
      },
      "execution_count": null,
      "outputs": []
    },
    {
      "cell_type": "code",
      "source": [
        "# Compare performance of all models\n",
        "comparison_all = pd.DataFrame({\n",
        "    'Model': ['Full-Feature Model', 'Essential-Feature Model', 'Weather-Related Feature Model', 'Wind-Related Feature Model'],\n",
        "    'MSE': [mse, mse_essential, mse_weather, mse_wind],\n",
        "    'R2': [r2, r2_essential, r2_weather, r2_wind]\n",
        "})\n",
        "\n",
        "print(\"\\nComparison of All Models:\")\n",
        "print(comparison_all)"
      ],
      "metadata": {
        "id": "z6QVoMDN3qCy"
      },
      "execution_count": null,
      "outputs": []
    },
    {
      "cell_type": "code",
      "source": [
        "# Select atmospheric pressure and humidity features\n",
        "pressure_humidity_features = [\n",
        "    'relative_humidity_2_m_above_gnd',\n",
        "    'mean_sea_level_pressure_MSL'\n",
        "]\n",
        "\n",
        "# Define new X (features) using only the atmospheric pressure and humidity features\n",
        "X_pressure_humidity = data[pressure_humidity_features]\n",
        "y = data['generated_power_kw']  # Target variable remains the same\n",
        "\n",
        "# Split the data into training and testing sets (80% train, 20% test)\n",
        "X_train_ph, X_test_ph, y_train_ph, y_test_ph = train_test_split(\n",
        "    X_pressure_humidity, y, test_size=0.2, random_state=42\n",
        ")\n",
        "\n",
        "# Initialize and train a new Linear Regression model\n",
        "model_ph = LinearRegression()\n",
        "model_ph.fit(X_train_ph, y_train_ph)\n",
        "\n",
        "# Make predictions on the test data\n",
        "y_pred_ph = model_ph.predict(X_test_ph)\n",
        "\n",
        "# Evaluate the model\n",
        "mse_ph = mean_squared_error(y_test_ph, y_pred_ph)\n",
        "r2_ph = r2_score(y_test_ph, y_pred_ph)\n",
        "\n",
        "print(\"\\nModel Evaluation with Atmospheric Pressure & Humidity Features:\")\n",
        "print(f\"Mean Squared Error (MSE): {mse_ph}\")\n",
        "print(f\"R-squared (R2): {r2_ph}\")\n",
        "\n",
        "# Visualize actual vs predicted values for the atmospheric pressure & humidity features model\n",
        "plt.figure(figsize=(10, 6))\n",
        "plt.scatter(y_test_ph, y_pred_ph, alpha=0.7, color='brown')\n",
        "plt.plot([y.min(), y.max()], [y.min(), y.max()], 'r--')  # Diagonal line\n",
        "plt.xlabel('Actual Generated Power (kW)')\n",
        "plt.ylabel('Predicted Generated Power (kW)')\n",
        "plt.title('Actual vs Predicted Solar Power Output (Atmospheric Pressure & Humidity Features)')\n",
        "plt.show()\n",
        "\n"
      ],
      "metadata": {
        "id": "mnijYYTp0SxW"
      },
      "execution_count": null,
      "outputs": []
    },
    {
      "cell_type": "code",
      "source": [
        "# Feature importance (coefficients of the linear regression model)\n",
        "feature_importance_ph = pd.DataFrame({\n",
        "    'Feature': pressure_humidity_features,\n",
        "    'Coefficient': model_ph.coef_\n",
        "}).sort_values(by='Coefficient', ascending=False)\n",
        "\n",
        "print(\"\\nFeature Importance (Coefficients) for Atmospheric Pressure & Humidity Features:\")\n",
        "print(feature_importance_ph)\n",
        "\n"
      ],
      "metadata": {
        "id": "esThp7l33yB-"
      },
      "execution_count": null,
      "outputs": []
    },
    {
      "cell_type": "code",
      "source": [
        "# Compare performance of all models\n",
        "comparison_all = pd.DataFrame({\n",
        "    'Model': ['Full-Feature Model', 'Essential-Feature Model', 'Weather-Related Feature Model',\n",
        "              'Wind-Related Feature Model', 'Atmospheric Pressure & Humidity Feature Model'],\n",
        "    'MSE': [mse, mse_essential, mse_weather, mse_wind, mse_ph],\n",
        "    'R2': [r2, r2_essential, r2_weather, r2_wind, r2_ph]\n",
        "})\n",
        "\n",
        "print(\"\\nComparison of All Models:\")\n",
        "print(comparison_all)"
      ],
      "metadata": {
        "id": "9XhQ_ixK3xxk"
      },
      "execution_count": null,
      "outputs": []
    },
    {
      "cell_type": "code",
      "source": [
        "# Import necessary libraries\n",
        "from sklearn.feature_selection import RFE\n",
        "from sklearn.ensemble import RandomForestRegressor\n",
        "\n",
        "# Define the recommended feature set\n",
        "features = [\n",
        "    'shortwave_radiation_backwards_sfc', 'angle_of_incidence', 'zenith', 'azimuth',\n",
        "    'total_cloud_cover_sfc', 'low_cloud_cover_low_cld_lay', 'medium_cloud_cover_mid_cld_lay',\n",
        "    'high_cloud_cover_high_cld_lay', 'temperature_2_m_above_gnd', 'total_precipitation_sfc',\n",
        "    'wind_speed_10_m_above_gnd', 'wind_speed_80_m_above_gnd'\n",
        "]\n",
        "target = 'generated_power_kw'\n",
        "\n",
        "# Select features and target variable\n",
        "X = data[features]\n",
        "y = data[target]\n",
        "\n",
        "# Split the data into training and testing sets (80% train, 20% test)\n",
        "X_train, X_test, y_train, y_test = train_test_split(X, y, test_size=0.2, random_state=42)\n",
        "\n",
        "# Train a linear regression model with all recommended features\n",
        "model_full = LinearRegression()\n",
        "model_full.fit(X_train, y_train)\n",
        "\n",
        "# Make predictions on the test data\n",
        "y_pred_full = model_full.predict(X_test)\n",
        "\n",
        "# Evaluate the model\n",
        "mse_full = mean_squared_error(y_test, y_pred_full)\n",
        "r2_full = r2_score(y_test, y_pred_full)\n",
        "\n",
        "print(\"\\nModel Evaluation with Full Recommended Feature Set:\")\n",
        "print(f\"Mean Squared Error (MSE): {mse_full}\")\n",
        "print(f\"R-squared (R2): {r2_full}\")\n",
        "\n"
      ],
      "metadata": {
        "id": "puSHNLPb0esW"
      },
      "execution_count": null,
      "outputs": []
    },
    {
      "cell_type": "code",
      "source": [
        "\n",
        "\n",
        "# Define features and target variable\n",
        "features = [\n",
        "    'shortwave_radiation_backwards_sfc', 'angle_of_incidence', 'zenith', 'azimuth',\n",
        "    'total_cloud_cover_sfc', 'low_cloud_cover_low_cld_lay', 'medium_cloud_cover_mid_cld_lay',\n",
        "    'high_cloud_cover_high_cld_lay', 'temperature_2_m_above_gnd', 'total_precipitation_sfc',\n",
        "    'wind_speed_10_m_above_gnd', 'wind_speed_80_m_above_gnd'\n",
        "]\n",
        "target = 'generated_power_kw'\n",
        "\n",
        "X = data[features]\n",
        "y = data[target]\n",
        "\n",
        "# Split the data into training and testing sets (80% train, 20% test)\n",
        "X_train, X_test, y_train, y_test = train_test_split(X, y, test_size=0.2, random_state=42)\n",
        "\n",
        "# Train a linear regression model\n",
        "model = LinearRegression()\n",
        "model.fit(X_train, y_train)\n",
        "\n",
        "# Make predictions on the test data\n",
        "y_pred = model.predict(X_test)\n",
        "\n",
        "# Evaluate the model\n",
        "mse = mean_squared_error(y_test, y_pred)\n",
        "r2 = r2_score(y_test, y_pred)\n",
        "\n",
        "print(\"\\nModel Evaluation:\")\n",
        "print(f\"Mean Squared Error (MSE): {mse}\")\n",
        "print(f\"R-squared (R2): {r2}\")\n",
        "\n",
        "# Visualize Actual vs Predicted Solar Power Output with a Bar Chart\n",
        "# Select a subset of the test data for visualization (e.g., first 10 samples)\n",
        "subset_size = 10\n",
        "y_test_subset = y_test[:subset_size]\n",
        "y_pred_subset = y_pred[:subset_size]\n",
        "\n",
        "# Create a bar chart\n",
        "x_labels = [f'Sample {i+1}' for i in range(subset_size)]\n",
        "x = np.arange(len(x_labels))  # X-axis positions\n",
        "width = 0.35  # Width of the bars\n",
        "\n",
        "plt.figure(figsize=(12, 6))\n",
        "plt.bar(x - width/2, y_test_subset, width, label='Actual Power (kW)', color='blue', alpha=0.7)\n",
        "plt.bar(x + width/2, y_pred_subset, width, label='Predicted Power (kW)', color='orange', alpha=0.7)\n",
        "\n",
        "# Add labels, title, and legend\n",
        "plt.xlabel('Samples')\n",
        "plt.ylabel('Solar Power Output (kW)')\n",
        "plt.title('Actual vs Predicted Solar Power Output')\n",
        "plt.xticks(x, x_labels)\n",
        "plt.legend()\n",
        "plt.grid(axis='y', linestyle='--', alpha=0.7)\n",
        "\n",
        "# Show the plot\n",
        "plt.tight_layout()\n",
        "plt.show()\n",
        "\n"
      ],
      "metadata": {
        "id": "AH0Cy7pF0mIq"
      },
      "execution_count": null,
      "outputs": []
    },
    {
      "cell_type": "code",
      "source": [
        "# Print actual vs predicted values for the subset\n",
        "comparison_df = pd.DataFrame({\n",
        "    'Sample': x_labels,\n",
        "    'Actual Power (kW)': y_test_subset,\n",
        "    'Predicted Power (kW)': y_pred_subset\n",
        "})\n",
        "print(\"\\nComparison of Actual vs Predicted Solar Power Output:\")\n",
        "print(comparison_df)"
      ],
      "metadata": {
        "id": "MunSqSXR3-f0"
      },
      "execution_count": null,
      "outputs": []
    },
    {
      "cell_type": "code",
      "source": [
        "# Feature importance (coefficients of the linear regression model)\n",
        "feature_importance_full = pd.DataFrame({\n",
        "    'Feature': features,\n",
        "    'Coefficient': model_full.coef_\n",
        "}).sort_values(by='Coefficient', ascending=False)\n",
        "\n",
        "print(\"\\nFeature Importance (Coefficients) for Full Recommended Feature Set:\")\n",
        "print(feature_importance_full)\n"
      ],
      "metadata": {
        "id": "yxZ745RE4xkv"
      },
      "execution_count": null,
      "outputs": []
    },
    {
      "cell_type": "code",
      "source": [
        "\n",
        "# Correlation Matrix Analysis\n",
        "correlation_matrix = data[features + [target]].corr()\n",
        "plt.figure(figsize=(12, 8))\n",
        "sns.heatmap(correlation_matrix, annot=True, cmap='coolwarm', fmt='.2f')\n",
        "plt.title('Correlation Matrix of Features with Target')\n",
        "plt.show()\n",
        "\n"
      ],
      "metadata": {
        "id": "J3VJ_zOQ3_yA"
      },
      "execution_count": null,
      "outputs": []
    },
    {
      "cell_type": "code",
      "source": [
        "# Recursive Feature Elimination (RFE) for Feature Selection\n",
        "# Use a Random Forest Regressor as the base estimator for RFE\n",
        "rf_model = RandomForestRegressor(random_state=42)\n",
        "rfe = RFE(estimator=rf_model, n_features_to_select=6)  # Select top 6 features\n",
        "rfe.fit(X_train, y_train)\n",
        "\n",
        "# Get the selected features\n",
        "selected_features = np.array(features)[rfe.support_]\n",
        "print(\"\\nSelected Features from RFE:\")\n",
        "print(selected_features)\n",
        "\n"
      ],
      "metadata": {
        "id": "37GplpcyITmk"
      },
      "execution_count": null,
      "outputs": []
    },
    {
      "cell_type": "code",
      "source": [
        "# Train a new model with the selected features\n",
        "X_train_rfe = X_train[selected_features]\n",
        "X_test_rfe = X_test[selected_features]\n",
        "\n",
        "model_rfe = LinearRegression()\n",
        "model_rfe.fit(X_train_rfe, y_train)\n",
        "\n",
        "# Make predictions on the test data\n",
        "y_pred_rfe = model_rfe.predict(X_test_rfe)\n",
        "\n",
        "# Evaluate the RFE model\n",
        "mse_rfe = mean_squared_error(y_test, y_pred_rfe)\n",
        "r2_rfe = r2_score(y_test, y_pred_rfe)\n",
        "\n",
        "print(\"\\nModel Evaluation with RFE-Selected Features:\")\n",
        "print(f\"Mean Squared Error (MSE): {mse_rfe}\")\n",
        "print(f\"R-squared (R2): {r2_rfe}\")\n"
      ],
      "metadata": {
        "id": "eejkUkVlIlh1"
      },
      "execution_count": null,
      "outputs": []
    },
    {
      "cell_type": "code",
      "source": [
        "# Compare performance of models\n",
        "comparison_all = pd.DataFrame({\n",
        "    'Model': ['Full Recommended Feature Set', 'RFE-Selected Features'],\n",
        "    'MSE': [mse_full, mse_rfe],\n",
        "    'R2': [r2_full, r2_rfe]\n",
        "})\n",
        "\n",
        "print(\"\\nComparison of Models:\")\n",
        "print(comparison_all)"
      ],
      "metadata": {
        "id": "kG8Lpad34rKg"
      },
      "execution_count": null,
      "outputs": []
    },
    {
      "cell_type": "code",
      "source": [],
      "metadata": {
        "id": "qaQrbABA4tVk"
      },
      "execution_count": null,
      "outputs": []
    }
  ]
}